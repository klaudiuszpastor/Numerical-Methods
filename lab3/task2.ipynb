{
 "cells": [
  {
   "cell_type": "markdown",
   "metadata": {},
   "source": [
    "Oblicz całkę funkcji dyskretnej otrzymanej na podstawie funkcji f(x)=rand() z biblioteki\n",
    "scipy - funkcja zwraca wartości losowe z zakresu 0-1. Analizę należy wykonać dla\n",
    "różnych zbiorów wygenerowanych liczb losowych o liczebności N, np. N=10, 100, 1000,\n",
    "itd. Następnie porównaj wyniki wartości całki wyznaczonej metodą \"dokładną\", np.\n",
    "metodą trapezów z:\n",
    "- metodą jednosegmentową, tzn. wartością całki wyznaczoną z iloczynu wybranej\n",
    "wartości funkcji f(c) w analizowanym przedziale i długości tego przedziału (a-b):\n",
    "Cj(N) = f(c)*(b-a),\n",
    "gdzie f(c) może być wartością „funkcji” w środku\n",
    "przedziału <a,b>, np. uzyskaną w wyniku pomiaru.\n",
    "- metodą wielosegmentową, tzn. sumy wartości iloczynów\n",
    "funkcji w wybranych podprzedziałach i długości tych\n",
    "podprzedziałów, tzn.:\n",
    "Cw(N) = Σ f(ci)*(bi-ai),\n",
    "gdzie c i ci są dowolnymi wartościami wybranymi z\n",
    "danego przedziału lub podprzedziału zmiennej x. "
   ]
  },
  {
   "cell_type": "code",
   "execution_count": 9,
   "metadata": {},
   "outputs": [
    {
     "name": "stdout",
     "output_type": "stream",
     "text": [
      "N = 10\n",
      "Metoda jednosegmentowa: 0.3910097988472632\n",
      "Metoda wielosegmentowa: 0.3910097988472632\n",
      "\n",
      "N = 100\n",
      "Metoda jednosegmentowa: 0.5306905866295949\n",
      "Metoda wielosegmentowa: 0.5306905866295951\n",
      "\n",
      "N = 1000\n",
      "Metoda jednosegmentowa: 0.5052011664207482\n",
      "Metoda wielosegmentowa: 0.5052011664207486\n",
      "\n"
     ]
    }
   ],
   "source": [
    "import numpy as np\n",
    "\n",
    "# Definicja funkcji dyskretnej na podstawie funkcji rand() z biblioteki scipy\n",
    "def liczba_rand(N):\n",
    "    return np.random.rand(N)\n",
    "\n",
    "# Metoda jednosegmentowa\n",
    "def jednosegmentowa(wartosci, a, b):\n",
    "    c = np.mean(wartosci)  # wartość funkcji w środku przedziału\n",
    "    return c * (b - a)\n",
    "\n",
    "# Metoda wielosegmentowa\n",
    "def wielosegmentowa(wartosci, interwaly):\n",
    "    suma = 0\n",
    "    for i in range(len(wartosci)):\n",
    "        suma += wartosci[i] * (interwaly[i][1] - interwaly[i][0])\n",
    "    return suma\n",
    "\n",
    "# Parametry całkowania\n",
    "a = 0  # początek przedziału\n",
    "b = 1  # koniec przedziału\n",
    "\n",
    "# Liczebności zbiorów losowych\n",
    "zbior = [10, 100, 1000]\n",
    "\n",
    "# Obliczenia dla różnych N\n",
    "for N in zbior:\n",
    "    # Wygenerowanie zbioru liczb losowych\n",
    "    wartosci = liczba_rand(N)\n",
    "    \n",
    "    # Metoda jednosegmentowa\n",
    "    całka_jedna = jednosegmentowa(wartosci, a, b)\n",
    "    \n",
    "    # Metoda wielosegmentowa\n",
    "    interwaly = [(a + i*(b-a)/N, a + (i+1)*(b-a)/N) for i in range(N)]\n",
    "    całka_wielo = wielosegmentowa(wartosci, interwaly)\n",
    "    \n",
    "    # Wyświetlenie wyników\n",
    "    print(f\"N = {N}\")\n",
    "    print(\"Metoda jednosegmentowa:\", całka_jedna)\n",
    "    print(\"Metoda wielosegmentowa:\", całka_wielo)\n",
    "    print()\n"
   ]
  }
 ],
 "metadata": {
  "kernelspec": {
   "display_name": "Python 3",
   "language": "python",
   "name": "python3"
  },
  "language_info": {
   "codemirror_mode": {
    "name": "ipython",
    "version": 3
   },
   "file_extension": ".py",
   "mimetype": "text/x-python",
   "name": "python",
   "nbconvert_exporter": "python",
   "pygments_lexer": "ipython3",
   "version": "3.10.12"
  }
 },
 "nbformat": 4,
 "nbformat_minor": 2
}
