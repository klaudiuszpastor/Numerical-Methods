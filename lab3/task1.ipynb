{
 "cells": [
  {
   "cell_type": "markdown",
   "metadata": {},
   "source": [
    "Korzystając z definicji pochodnej oraz obliczeń symbolicznych w Pythonie - biblioteka\n",
    "sympy – napisz algorytm do wyznaczania miejsca zerowego zadanej funkcji f(x),\n",
    "korzystając z metody Newtona (inaczej metody Newtona-Raphsona). \n",
    "\n",
    "https://en.wikipedia.org/wiki/Newton%27s_method"
   ]
  },
  {
   "cell_type": "code",
   "execution_count": 68,
   "metadata": {},
   "outputs": [
    {
     "name": "stdout",
     "output_type": "stream",
     "text": [
      "Miejsce zerowe: x = 0.850404411376705\n",
      "Sformatowana Funkcja:\n",
      "     4    3    \n",
      "- 5⋅x  + x  + 2\n",
      "Wartosc funkcji dla punktu zerowego = 0.0\n",
      "Wartość funkcji dla punktu zerowego = 0.0\n"
     ]
    }
   ],
   "source": [
    "import sympy as sp\n",
    "from math import *\n",
    "\n",
    "def newton(funkcja, x0, Nmax, Error):\n",
    "    #funkcja wchodząca, pkt startowy, iteracje, błąd\n",
    "    x = sp.Symbol('x')\n",
    "    f = lambda x: eval(funkcja, globals(), {'x': x})\n",
    "    # funkcja eval() pozwala na dynamiczne wykonanie kodu Pythona, \n",
    "    # np. wyznaczenie wartości wyrażenia podanego w postaci łańcucha, \n",
    "    # tzn. eval(wyrażenie, {zm. globalne}, {zm. lokalne}), gdzie\n",
    "    # zmienne lokalne i globalne są definiowane w postaci\n",
    "    # słownika, np. {”x”:x}\n",
    "    \n",
    "    pochodna = sp.diff(funkcja, x)\n",
    "    df = sp.lambdify(x, pochodna)\n",
    "    # sp.lambdify() to funkcja z biblioteki SymPy, \n",
    "    # która służy do konwersji obiektów symbolicznych na funkcje numeryczne. \n",
    "    # W tym przypadku, pierwszy argument x określa zmienną, względem której \n",
    "    # będzie obliczana pochodna, a drugi argument pochodna to sama pochodna, \n",
    "    # którą chcemy przekształcić.\n",
    "\n",
    "    for i in range(Nmax):\n",
    "        x1 = x0 - f(x0) / df(x0)\n",
    "        if abs(x1 - x0) < Error:\n",
    "            return x1\n",
    "        x0 = x1\n",
    "\n",
    "    return None  # Gdy nie znaleziono miejsca zerowego w danej liczbie iteracji\n",
    "\n",
    "fx = \"x**3 - 5*x**4 + 2\"\n",
    "x0 = 5\n",
    "zero = newton(fx,x0, 100, 1e-6)\n",
    "if zero is not None:\n",
    "    print(f\"Miejsce zerowe: x = {zero}\") \n",
    "else:\n",
    "    print(\"Nie udało się znaleźć miejsca zerowego w danej liczbie iteracji.\")\n",
    "\n",
    "print(\"Sformatowana Funkcja:\")\n",
    "sp.pprint(sp.simplify(fx))\n",
    "# formatowanie funkcji zapisanej w postaci łańcucha,\n",
    "# korzystając z funkcji biblioteki sympy, np.: pprint() i simplify()\n",
    "\n",
    "x=zero\n",
    "funkcja = lambda fx: eval(fx, globals(), locals())\n",
    "print('Wartosc funkcji dla punktu zerowego =',funkcja(fx)) \n",
    "\n",
    "wynik_funkcji = eval(fx,{'x': x})\n",
    "print('Wartość funkcji dla punktu zerowego =', wynik_funkcji)"
   ]
  }
 ],
 "metadata": {
  "kernelspec": {
   "display_name": "Python 3",
   "language": "python",
   "name": "python3"
  },
  "language_info": {
   "codemirror_mode": {
    "name": "ipython",
    "version": 3
   },
   "file_extension": ".py",
   "mimetype": "text/x-python",
   "name": "python",
   "nbconvert_exporter": "python",
   "pygments_lexer": "ipython3",
   "version": "3.10.12"
  }
 },
 "nbformat": 4,
 "nbformat_minor": 2
}
