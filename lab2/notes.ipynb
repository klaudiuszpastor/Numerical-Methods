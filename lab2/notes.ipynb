{
 "cells": [
  {
   "cell_type": "code",
   "execution_count": 43,
   "metadata": {},
   "outputs": [],
   "source": [
    "import sys\n",
    "from decimal import Decimal\n",
    "from math import *\n",
    "import timeit"
   ]
  },
  {
   "cell_type": "code",
   "execution_count": 25,
   "metadata": {},
   "outputs": [
    {
     "name": "stdout",
     "output_type": "stream",
     "text": [
      "sys.int_info(bits_per_digit=30, sizeof_digit=4, default_max_str_digits=4300, str_digits_check_threshold=640) \n",
      "\n",
      "9223372036854775807 \n",
      "\n",
      "<class 'int'> \n",
      "\n",
      "18446744073709551614 \n",
      "\n",
      "<class 'int'>\n"
     ]
    }
   ],
   "source": [
    "# int numers\n",
    "\n",
    "print(sys.int_info,'\\n')\n",
    "\n",
    "i = sys.maxsize\n",
    "print(i,'\\n')\n",
    "print(type(i),'\\n')\n",
    "ii = i+i\n",
    "print(ii,'\\n')\n",
    "print(type(ii))"
   ]
  },
  {
   "cell_type": "markdown",
   "metadata": {},
   "source": [
    "**W przypadku liczb całkowitych ich liczbę całkowitą można wyznaczyć z zależności**\n",
    "\n",
    "\n",
    "*liczba maksymalna = 2^(liczba bitów - 1) - 1*\n",
    "\n",
    "**Liczba bitów jest równa 32 lub 64 w zależności od systemu, gdzie 1 bit jest zarezerwowany na znak liczby.**\n",
    "\n",
    "*Zapis liczb zmiennoprzecinkowych wg standardu wymaga trzech pól, tzn:*\n",
    "\n",
    "    bitu określającego znak liczby (sign)\n",
    "    pola bitów przechowujących wykładnik (exponent)\n",
    "    pola bitów przechowujących mantysę (mantissa)"
   ]
  },
  {
   "cell_type": "code",
   "execution_count": 32,
   "metadata": {},
   "outputs": [
    {
     "name": "stdout",
     "output_type": "stream",
     "text": [
      "sys.float_info(max=1.7976931348623157e+308, max_exp=1024, max_10_exp=308, min=2.2250738585072014e-308, min_exp=-1021, min_10_exp=-307, dig=15, mant_dig=53, epsilon=2.220446049250313e-16, radix=2, rounds=1) \n",
      "\n",
      "1.7976931348623157e+308 \n",
      "\n",
      "<class 'float'> \n",
      "\n",
      "inf \n",
      "\n",
      "<class 'float'>\n"
     ]
    }
   ],
   "source": [
    "#float numbers\n",
    "print(sys.float_info,'\\n')\n",
    "\n",
    "f = sys.float_info[0]\n",
    "print(f,'\\n')\n",
    "print(type(f),'\\n')\n",
    "ff = f+f\n",
    "print(ff,'\\n')\n",
    "print(type(ff))"
   ]
  },
  {
   "cell_type": "code",
   "execution_count": 44,
   "metadata": {},
   "outputs": [
    {
     "name": "stdout",
     "output_type": "stream",
     "text": [
      "0.1\n",
      "0.1000000000000000055511151231257827021181583404541015625\n",
      "3.141592653589793\n",
      "2.718281828459045\n"
     ]
    }
   ],
   "source": [
    "a = 0.1\n",
    "print(0.1)\n",
    "print(Decimal(0.1))\n",
    "numers = [pi, e]\n",
    "for i in numers:\n",
    "    print(i)"
   ]
  },
  {
   "cell_type": "code",
   "execution_count": 46,
   "metadata": {},
   "outputs": [
    {
     "name": "stdout",
     "output_type": "stream",
     "text": [
      "False\n"
     ]
    }
   ],
   "source": [
    "a = 0.1\n",
    "b = 0.2\n",
    "print(a+b == 0.3)"
   ]
  },
  {
   "cell_type": "code",
   "execution_count": 48,
   "metadata": {},
   "outputs": [
    {
     "name": "stdout",
     "output_type": "stream",
     "text": [
      "True\n"
     ]
    }
   ],
   "source": [
    "a = Decimal(\"0.1\")\n",
    "b = Decimal(\"0.2\")\n",
    "print(a+b == Decimal(\"0.3\"))"
   ]
  },
  {
   "cell_type": "code",
   "execution_count": 53,
   "metadata": {},
   "outputs": [
    {
     "name": "stdout",
     "output_type": "stream",
     "text": [
      "0.26019906500005163\n",
      "0.0799001049999788\n"
     ]
    }
   ],
   "source": [
    "print(timeit.timeit(stmt=\"a=2;a**2\",number = 1000000))\n",
    "print(timeit.timeit(stmt=\"a=2.;a**2\",number = 1000000))"
   ]
  }
 ],
 "metadata": {
  "kernelspec": {
   "display_name": "Python 3",
   "language": "python",
   "name": "python3"
  },
  "language_info": {
   "codemirror_mode": {
    "name": "ipython",
    "version": 3
   },
   "file_extension": ".py",
   "mimetype": "text/x-python",
   "name": "python",
   "nbconvert_exporter": "python",
   "pygments_lexer": "ipython3",
   "version": "3.10.12"
  }
 },
 "nbformat": 4,
 "nbformat_minor": 2
}
