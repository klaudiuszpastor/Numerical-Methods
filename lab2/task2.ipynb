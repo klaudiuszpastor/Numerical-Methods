{
 "cells": [
  {
   "cell_type": "code",
   "execution_count": 1,
   "metadata": {},
   "outputs": [],
   "source": [
    "#Zadanie 2\n",
    "from bitarray import bitarray\n",
    "import struct"
   ]
  },
  {
   "cell_type": "code",
   "execution_count": 2,
   "metadata": {},
   "outputs": [
    {
     "name": "stdout",
     "output_type": "stream",
     "text": [
      "Funkcja .to01() 10000011\n",
      "int() convert: 131\n",
      "Liczba float: 25.163991928100586\n"
     ]
    }
   ],
   "source": [
    "#[znak,eksponenta, mantysa] -> float (32-bit)\n",
    "def bin_to_float(bit):\n",
    "    bity= bitarray(bit)\n",
    "    znak = bity[0]\n",
    "    eksponanta = bity[1:9]\n",
    "    mantysa = bity[9:]\n",
    "    \n",
    "    #znak liczby\n",
    "    if znak == 0:\n",
    "        sign = 1\n",
    "    else:\n",
    "        sign = -1\n",
    "\n",
    "    #wykładnik\n",
    "    wykladnik = int(eksponanta.to01(),2) - 127\n",
    "    #funkcja to01() z bitarray konwertuje ciąg bitów na łańcuch znaków 0 i 1\n",
    "    print('Funkcja .to01()',eksponanta.to01())\n",
    "    #int() konwertuje binary na decimal\n",
    "    print('int() convert:',int(eksponanta.to01(),2))\n",
    "    #mantysa (fraction)\n",
    "    fraction = 1.0\n",
    "    for i in range(len(mantysa)):\n",
    "        fraction += (mantysa[i]) *2**(-i-1)\n",
    "    \n",
    "    wynik = sign*fraction*2**wykladnik\n",
    "\n",
    "    return wynik\n",
    "\n",
    "liczba_binarna = '01000001110010010100111111011011'\n",
    "\n",
    "print('Liczba float:',bin_to_float(liczba_binarna))"
   ]
  },
  {
   "cell_type": "code",
   "execution_count": 3,
   "metadata": {},
   "outputs": [
    {
     "name": "stdout",
     "output_type": "stream",
     "text": [
      "101010\n"
     ]
    }
   ],
   "source": [
    "bits = bitarray('101010')\n",
    "# Konwersja na łańcuch znaków\n",
    "bits_string = bits.to01()\n",
    "\n",
    "print(bits_string)  "
   ]
  },
  {
   "cell_type": "markdown",
   "metadata": {},
   "source": [
    "**liczba = znak * mantysa * 2 ^(eksponenta-127) = znak * (1. + część_ułamkowa) * 2^(eksponenta-127)**"
   ]
  },
  {
   "cell_type": "code",
   "execution_count": 7,
   "metadata": {},
   "outputs": [
    {
     "name": "stdout",
     "output_type": "stream",
     "text": [
      "Reprezentacja bitowa IEEE-754: 01000010010100001010111000010100\n"
     ]
    }
   ],
   "source": [
    "def float_to_ieee754(num):\n",
    "    # Sprawdź znak liczby\n",
    "    sign_bit = '1' if num < 0 else '0'\n",
    "    num = abs(num)\n",
    "\n",
    "    \n",
    "    if num == 0.0:\n",
    "        return '0' * 32\n",
    "    #elif num == float('inf'):\n",
    "    #    return '0' * 31 + '1' + '0' * 23\n",
    "    #elif num == float('-inf'):\n",
    "    #    return '1' * 32\n",
    "    #elif num != num:  # NaN\n",
    "    #    return '0' * 31 + '1' + '1' * 23\n",
    "\n",
    "    # Oblicz wykładnik (eksponent) i mantysę\n",
    "    exponent = 0\n",
    "    while num >= 2:\n",
    "        num /= 2\n",
    "        exponent += 1\n",
    "\n",
    "    # Oblicz mantysę\n",
    "    mantissa = \"\"\n",
    "    for _ in range(23):\n",
    "        bit = '1' if num >= 1 else '0'\n",
    "        mantissa += bit\n",
    "        num -= int(bit)  # Pozbądź się części całkowitej\n",
    "        num *= 2\n",
    "\n",
    "    # Utwórz reprezentację bitową w formacie IEEE-754\n",
    "    exponent_bits = format(exponent + 127, '08b')\n",
    "    ieee754_representation = sign_bit + exponent_bits + mantissa\n",
    "\n",
    "    return ieee754_representation\n",
    "\n",
    "# Przykładowa liczba float\n",
    "example_float = 40.34\n",
    "\n",
    "# Konwertuj liczbę na format bitowy IEEE-754\n",
    "bit_representation = float_to_ieee754(example_float)\n",
    "\n",
    "# Wyświetl wynik\n",
    "print(\"Reprezentacja bitowa IEEE-754:\", bit_representation)\n"
   ]
  },
  {
   "cell_type": "code",
   "execution_count": 5,
   "metadata": {},
   "outputs": [
    {
     "name": "stdout",
     "output_type": "stream",
     "text": [
      "a po zapisaniu: 1036831949\n",
      "b po zapisaniu: 1045220557\n",
      "a po odczytaniu: 0.10000000149011612\n",
      "b po odczytaniu: 0.20000000298023224\n"
     ]
    }
   ],
   "source": [
    "import struct\n",
    "\n",
    "def unpack_float(f):\n",
    "    # Funkcja do dekodowania liczby zmiennoprzecinkowej zapisanej w formacie IEEE-754\n",
    "    return struct.unpack('f', struct.pack('I', int(f)))[0]\n",
    "\n",
    "def pack_float(f):\n",
    "    # Funkcja do kodowania liczby zmiennoprzecinkowej w formacie IEEE-754\n",
    "    return struct.unpack('I', struct.pack('f', f))[0]\n",
    "\n",
    "# Przykładowe użycie\n",
    "a = 0.1\n",
    "b = 0.2\n",
    "\n",
    "a_packed = pack_float(a)\n",
    "b_packed = pack_float(b)\n",
    "\n",
    "print(\"a po zapisaniu:\", a_packed)\n",
    "print(\"b po zapisaniu:\", b_packed)\n",
    "\n",
    "a_unpacked = unpack_float(a_packed)\n",
    "b_unpacked = unpack_float(b_packed)\n",
    "\n",
    "print(\"a po odczytaniu:\", a_unpacked)\n",
    "print(\"b po odczytaniu:\", b_unpacked)\n"
   ]
  }
 ],
 "metadata": {
  "kernelspec": {
   "display_name": "Python 3",
   "language": "python",
   "name": "python3"
  },
  "language_info": {
   "codemirror_mode": {
    "name": "ipython",
    "version": 3
   },
   "file_extension": ".py",
   "mimetype": "text/x-python",
   "name": "python",
   "nbconvert_exporter": "python",
   "pygments_lexer": "ipython3",
   "version": "3.10.12"
  }
 },
 "nbformat": 4,
 "nbformat_minor": 2
}
