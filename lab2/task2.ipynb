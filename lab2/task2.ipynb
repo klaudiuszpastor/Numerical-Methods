{
 "cells": [
  {
   "cell_type": "code",
   "execution_count": 30,
   "metadata": {},
   "outputs": [],
   "source": [
    "#Zadanie 2\n",
    "from bitarray import bitarray"
   ]
  },
  {
   "cell_type": "code",
   "execution_count": 45,
   "metadata": {},
   "outputs": [
    {
     "name": "stdout",
     "output_type": "stream",
     "text": [
      "Funkcja .to01() 10000011\n",
      "int() convert: 131\n",
      "Liczba float: 25.163991928100586\n"
     ]
    }
   ],
   "source": [
    "#[znak,eksponenta, mantysa] -> float (32-bit)\n",
    "def bin_to_float(bit):\n",
    "    bity= bitarray(bit)\n",
    "    znak = bity[0]\n",
    "    eksponanta = bity[1:9]\n",
    "    mantysa = bity[9:]\n",
    "    \n",
    "    #znak liczby\n",
    "    if znak == 0:\n",
    "        sign = 1\n",
    "    else:\n",
    "        sign = -1\n",
    "\n",
    "    #wykładnik\n",
    "    wykladnik = int(eksponanta.to01(),2) - 127\n",
    "    #funkcja to01() z bitarray konwertuje ciąg bitów na łańcuch znaków 0 i 1\n",
    "    print('Funkcja .to01()',eksponanta.to01())\n",
    "    #int() konwertuje binary na decimal\n",
    "    print('int() convert:',int(eksponanta.to01(),2))\n",
    "    #mantysa (fraction)\n",
    "    fraction = 1.0\n",
    "    for i in range(len(mantysa)):\n",
    "        fraction += (mantysa[i]) *2**(-i-1)\n",
    "    \n",
    "    wynik = sign*fraction*2**wykladnik\n",
    "\n",
    "    return wynik\n",
    "\n",
    "liczba_binarna = '01000001110010010100111111011011'\n",
    "\n",
    "print('Liczba float:',bin_to_float(liczba_binarna))"
   ]
  },
  {
   "cell_type": "code",
   "execution_count": 40,
   "metadata": {},
   "outputs": [
    {
     "name": "stdout",
     "output_type": "stream",
     "text": [
      "101010\n"
     ]
    }
   ],
   "source": [
    "bits = bitarray('101010')\n",
    "# Konwersja na łańcuch znaków\n",
    "bits_string = bits.to01()\n",
    "\n",
    "print(bits_string)  "
   ]
  },
  {
   "cell_type": "code",
   "execution_count": null,
   "metadata": {},
   "outputs": [],
   "source": [
    "#float -> [znak,eksponanta,mantysa]\n",
    "\n"
   ]
  }
 ],
 "metadata": {
  "kernelspec": {
   "display_name": "Python 3",
   "language": "python",
   "name": "python3"
  },
  "language_info": {
   "codemirror_mode": {
    "name": "ipython",
    "version": 3
   },
   "file_extension": ".py",
   "mimetype": "text/x-python",
   "name": "python",
   "nbconvert_exporter": "python",
   "pygments_lexer": "ipython3",
   "version": "3.10.12"
  }
 },
 "nbformat": 4,
 "nbformat_minor": 2
}
