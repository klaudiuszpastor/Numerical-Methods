{
 "cells": [
  {
   "cell_type": "code",
   "execution_count": 19,
   "metadata": {},
   "outputs": [
    {
     "name": "stdout",
     "output_type": "stream",
     "text": [
      "Przybliżenie liczby e z błędem 1%: 2.7166666666666663\n",
      "Liczba składników szeregu Taylora dla 1% błędu: 7\n",
      "Czas wykonania dla 1% błędu:4.9591064453125e-05 sekundy\n",
      "\n",
      "Przybliżenie liczby e z błędem 5% 2.708333333333333\n",
      "Liczba składników szeregu Taylora dla 5% błędu:6\n",
      "Czas wykonania dla 5% błędu: 2.4080276489257812e-05 sekundy\n"
     ]
    }
   ],
   "source": [
    "#Zadanie 3\n",
    "\n",
    "# Funkcja obliczająca szereg Taylora dla danego x i liczby składników n\n",
    "def taylor(x, n):\n",
    "    wynik = 0\n",
    "    for i in range(n):\n",
    "        wynik += x**i / math.factorial(i)\n",
    "    return wynik\n",
    "\n",
    "# Funkcja obliczająca przybliżenie liczby e z błędem przybliżenia wynoszącym blad\n",
    "def przyblizenie_liczby(x, blad):\n",
    "    n = 1\n",
    "    error = 100\n",
    "    while error > blad:\n",
    "        e_aproksymacja = taylor(x, n)\n",
    "        error = abs((e_aproksymacja - taylor(x, n-1)) / e_aproksymacja) * 100\n",
    "        n += 1\n",
    "    return e_aproksymacja, n\n",
    "\n",
    "# Czas wykonania dla obliczenia przybliżenia liczby e z określoną precyzją\n",
    "def kalkulator_czasu(x, blad):\n",
    "    start_time = time.time()\n",
    "    e_aproksymacja, n = przyblizenie_liczby(x, blad)\n",
    "    end_time = time.time()\n",
    "    czas = end_time - start_time\n",
    "    return czas, n\n",
    "\n",
    "# Ustawienia dla x=1 i precyzji 1%\n",
    "x = 1\n",
    "blad_1 = 1\n",
    "blad_5 = 5\n",
    "\n",
    "# Obliczenie przybliżenia liczby e z błędem 1%\n",
    "e_aproksymacja_1_procent, n_1_percent = przyblizenie_liczby(x, blad_1)\n",
    "czas_1_procent, _ = kalkulator_czasu(x, blad_1)\n",
    "\n",
    "# Obliczenie przybliżenia liczby e z błędem 5%\n",
    "e_aproksymacja_5_procent, n_5_percent = przyblizenie_liczby(x, blad_5)\n",
    "czas_5_procent, _ = kalkulator_czasu(x, blad_5)\n",
    "\n",
    "print(f\"Przybliżenie liczby e z błędem 1%: {e_aproksymacja_1_procent}\")\n",
    "print(f\"Liczba składników szeregu Taylora dla 1% błędu: {n_1_percent}\")\n",
    "print(f\"Czas wykonania dla 1% błędu:{czas_1_procent} sekundy\\n\")\n",
    "print(f\"Przybliżenie liczby e z błędem 5% {e_aproksymacja_5_procent}\")\n",
    "print(f\"Liczba składników szeregu Taylora dla 5% błędu:{n_5_percent}\")\n",
    "print(f\"Czas wykonania dla 5% błędu: {czas_5_procent} sekundy\")\n"
   ]
  }
 ],
 "metadata": {
  "kernelspec": {
   "display_name": "Python 3",
   "language": "python",
   "name": "python3"
  },
  "language_info": {
   "codemirror_mode": {
    "name": "ipython",
    "version": 3
   },
   "file_extension": ".py",
   "mimetype": "text/x-python",
   "name": "python",
   "nbconvert_exporter": "python",
   "pygments_lexer": "ipython3",
   "version": "3.10.12"
  }
 },
 "nbformat": 4,
 "nbformat_minor": 2
}
